# Data for calculating near-surface (2-m) relative humidity and specific humidity.
